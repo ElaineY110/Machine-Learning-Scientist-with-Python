{
 "cells": [
  {
   "cell_type": "code",
   "execution_count": 1,
   "id": "5ac3f68d",
   "metadata": {},
   "outputs": [],
   "source": [
    "import pandas as pd\n",
    "import numpy as np\n",
    "import matplotlib.pyplot as plt"
   ]
  },
  {
   "cell_type": "code",
   "execution_count": 3,
   "id": "582acdfc",
   "metadata": {},
   "outputs": [
    {
     "data": {
      "text/html": [
       "<div>\n",
       "<style scoped>\n",
       "    .dataframe tbody tr th:only-of-type {\n",
       "        vertical-align: middle;\n",
       "    }\n",
       "\n",
       "    .dataframe tbody tr th {\n",
       "        vertical-align: top;\n",
       "    }\n",
       "\n",
       "    .dataframe thead th {\n",
       "        text-align: right;\n",
       "    }\n",
       "</style>\n",
       "<table border=\"1\" class=\"dataframe\">\n",
       "  <thead>\n",
       "    <tr style=\"text-align: right;\">\n",
       "      <th></th>\n",
       "      <th>tv</th>\n",
       "      <th>radio</th>\n",
       "      <th>social_media</th>\n",
       "      <th>influencer</th>\n",
       "      <th>sales</th>\n",
       "    </tr>\n",
       "  </thead>\n",
       "  <tbody>\n",
       "    <tr>\n",
       "      <th>0</th>\n",
       "      <td>16000.0</td>\n",
       "      <td>6566.23</td>\n",
       "      <td>2907.98</td>\n",
       "      <td>Mega</td>\n",
       "      <td>54732.76</td>\n",
       "    </tr>\n",
       "    <tr>\n",
       "      <th>1</th>\n",
       "      <td>13000.0</td>\n",
       "      <td>9237.76</td>\n",
       "      <td>2409.57</td>\n",
       "      <td>Mega</td>\n",
       "      <td>46677.90</td>\n",
       "    </tr>\n",
       "    <tr>\n",
       "      <th>2</th>\n",
       "      <td>41000.0</td>\n",
       "      <td>15886.45</td>\n",
       "      <td>2913.41</td>\n",
       "      <td>Mega</td>\n",
       "      <td>150177.83</td>\n",
       "    </tr>\n",
       "    <tr>\n",
       "      <th>3</th>\n",
       "      <td>83000.0</td>\n",
       "      <td>30020.03</td>\n",
       "      <td>6922.30</td>\n",
       "      <td>Mega</td>\n",
       "      <td>298246.34</td>\n",
       "    </tr>\n",
       "    <tr>\n",
       "      <th>4</th>\n",
       "      <td>15000.0</td>\n",
       "      <td>8437.41</td>\n",
       "      <td>1406.00</td>\n",
       "      <td>Micro</td>\n",
       "      <td>56594.18</td>\n",
       "    </tr>\n",
       "  </tbody>\n",
       "</table>\n",
       "</div>"
      ],
      "text/plain": [
       "        tv     radio  social_media influencer      sales\n",
       "0  16000.0   6566.23       2907.98       Mega   54732.76\n",
       "1  13000.0   9237.76       2409.57       Mega   46677.90\n",
       "2  41000.0  15886.45       2913.41       Mega  150177.83\n",
       "3  83000.0  30020.03       6922.30       Mega  298246.34\n",
       "4  15000.0   8437.41       1406.00      Micro   56594.18"
      ]
     },
     "execution_count": 3,
     "metadata": {},
     "output_type": "execute_result"
    }
   ],
   "source": [
    "sales_df = pd.read_csv('./desktop/advertising_and_sales_clean.csv')\n",
    "sales_df.head()"
   ]
  },
  {
   "cell_type": "markdown",
   "id": "7d945567",
   "metadata": {},
   "source": [
    "### Creating features\n",
    "In this chapter, you will work with a dataset called sales_df, which contains information on advertising campaign expenditure across different media types, and the number of dollars generated in sales for the respective campaign. \n",
    "\n"
   ]
  },
  {
   "cell_type": "code",
   "execution_count": 5,
   "id": "6bd3a862",
   "metadata": {},
   "outputs": [
    {
     "data": {
      "text/plain": [
       "((4546,), (4546,))"
      ]
     },
     "execution_count": 5,
     "metadata": {},
     "output_type": "execute_result"
    }
   ],
   "source": [
    "X = sales_df['radio'].values\n",
    "y = sales_df['sales'].values\n",
    "X.shape, y.shape"
   ]
  },
  {
   "cell_type": "code",
   "execution_count": 7,
   "id": "d1b58aa9",
   "metadata": {
    "scrolled": true
   },
   "outputs": [
    {
     "data": {
      "text/plain": [
       "((4546, 1), (4546,))"
      ]
     },
     "execution_count": 7,
     "metadata": {},
     "output_type": "execute_result"
    }
   ],
   "source": [
    "X = X.reshape(-1,1)\n",
    "X.shape, y.shape\n",
    "# feature must be two dimensional NumPy array"
   ]
  },
  {
   "cell_type": "markdown",
   "id": "4bc59572",
   "metadata": {},
   "source": [
    "### Building a linear regression model\n",
    "Now you have created your feature and target arrays, you will train a linear regression model on all feature and target values.\n",
    "\n",
    "As the goal is to assess the relationship between the feature and target values there is no need to split the data into training and test sets.\n",
    "- import LinearRegression.\n",
    "- Instantiate a linear regression model.\n",
    "- Predict sales values using X, storing as predictions."
   ]
  },
  {
   "cell_type": "code",
   "execution_count": 8,
   "id": "87b26dba",
   "metadata": {},
   "outputs": [
    {
     "name": "stderr",
     "output_type": "stream",
     "text": [
      "/opt/anaconda3/lib/python3.8/site-packages/scipy/__init__.py:138: UserWarning: A NumPy version >=1.16.5 and <1.23.0 is required for this version of SciPy (detected version 1.24.3)\n",
      "  warnings.warn(f\"A NumPy version >={np_minversion} and <{np_maxversion} is required for this version of \"\n"
     ]
    },
    {
     "name": "stdout",
     "output_type": "stream",
     "text": [
      "[ 95491.17119147 117829.51038393 173423.38071499 291603.11444202\n",
      " 111137.28167129]\n"
     ]
    }
   ],
   "source": [
    "from sklearn.linear_model import LinearRegression\n",
    "reg = LinearRegression()\n",
    "reg.fit(X, y)\n",
    "\n",
    "predictions = reg.predict(X)\n",
    "print(predictions[0:5])"
   ]
  },
  {
   "cell_type": "markdown",
   "id": "e1518e48",
   "metadata": {},
   "source": [
    "### Visualizing a linear regression model\n",
    "Now you have built your linear regression model and trained it using all available observations, you can visualize how well the model fits the data. This allows you to interpret the relationship between radio advertising expenditure and sales values.\n",
    "\n",
    "The variables X, an array of radio values, y, an array of sales values, and predictions, an array of the model's predicted values for y given X, have all been preloaded for you from the previous exercise.\n",
    "- Import matplotlib.pyplot as plt.\n",
    "- Create a scatter plot visualizing y against X, with observations in blue.\n",
    "- Draw a red line plot displaying the predictions against X.\n",
    "- Display the plot."
   ]
  },
  {
   "cell_type": "code",
   "execution_count": 12,
   "id": "191cea8a",
   "metadata": {},
   "outputs": [
    {
     "data": {
      "image/png": "[encoded data removed]",
      "text/plain": [
       "<Figure size 432x288 with 1 Axes>"
      ]
     },
     "metadata": {
      "needs_background": "light"
     },
     "output_type": "display_data"
    }
   ],
   "source": [
    "plt.scatter(X,y)\n",
    "plt.plot(X, predictions, color ='red')\n",
    "plt.xlabel('Radio Expenditure')\n",
    "plt.ylabel('Sales')\n",
    "plt.show()"
   ]
  },
  {
   "cell_type": "markdown",
   "id": "4ff8d74b",
   "metadata": {},
   "source": [
    "### Fit and predict for regression\n",
    "Now you have seen how linear regression works, your task is to create a multiple linear regression model using all of the features in the sales_df dataset, which has been preloaded for you. You will then use this model to predict sales based on the values of the test features.\n",
    "- Create X, an array containing values of all features in sales_df, and y, containing all values from the \"sales\" column.\n",
    "- Instantiate a linear regression model.\n",
    "- Fit the model to the training data.\n",
    "- Create y_pred, making predictions for sales using the test features."
   ]
  },
  {
   "cell_type": "code",
   "execution_count": 26,
   "id": "3d199da5",
   "metadata": {},
   "outputs": [
    {
     "name": "stdout",
     "output_type": "stream",
     "text": [
      "Predictions:[ 53176.66154234  70996.19873235 267032.64132081 195731.02438566\n",
      " 274005.60025851], Actual Values:[ 55261.28  67574.9  272250.11 195102.18 273960.38]\n"
     ]
    }
   ],
   "source": [
    "from sklearn.model_selection import train_test_split\n",
    "X = sales_df.drop(['influencer','sales'], axis = 1).values\n",
    "y = sales_df['sales'].values\n",
    "\n",
    "X_train, X_test, y_train, y_test = train_test_split(X, y, test_size = 0.3, random_state = 42)\n",
    "\n",
    "reg = LinearRegression()\n",
    "reg.fit(X_train, y_train)\n",
    "y_pred = reg.predict(X_test)\n",
    "print('Predictions:{}, Actual Values:{}'.format(y_pred[0:5], y_test[0:5]))"
   ]
  },
  {
   "cell_type": "markdown",
   "id": "4788563f",
   "metadata": {},
   "source": [
    "### Regression performance\n",
    "Now you have fit a model, reg, using all features from sales_df, and made predictions of sales values, you can evaluate performance using some common regression metrics.\n",
    "Your task is to find out how well the features can explain the variance in the target values, along with assessing the model's ability to make predictions on unseen data.\n",
    "The variables X_train, X_test, y_train, y_test, and y_pred, along with the fitted model, reg, all from the last exercise, have been preloaded for you.\n",
    "- Import mean_squared_error.\n",
    "- Calculate the model's R-squared score by passing the test feature values and the test target values to an appropriate method.\n",
    "- Calculate the model's root mean squared error using y_test and y_pred.\n",
    "- Print r_squared and rmse."
   ]
  },
  {
   "cell_type": "code",
   "execution_count": 27,
   "id": "03989e45",
   "metadata": {},
   "outputs": [
    {
     "name": "stdout",
     "output_type": "stream",
     "text": [
      "R suqared 0.9990152104759368, RMSE 2944.4331996000988\n"
     ]
    }
   ],
   "source": [
    "from sklearn.metrics import mean_squared_error\n",
    "r_squared = reg.score(X_test, y_test)\n",
    "rmse = mean_squared_error(y_pred, y_test, squared = False)\n",
    "\n",
    "print('R suqared {}, RMSE {}'.format(r_squared, rmse))"
   ]
  },
  {
   "cell_type": "markdown",
   "id": "044a58d7",
   "metadata": {},
   "source": [
    "### Cross-validation for R-squared\n",
    "Cross-validation is a vital approach to evaluating a model. It maximizes the amount of data that is available to the model, as the model is not only trained but also tested on all of the available data.\n",
    "\n",
    "In this exercise, you will build a linear regression model, then use 6-fold cross-validation to assess its accuracy for predicting sales using social media advertising expenditure. You will display the individual score for each of the six-folds.\n",
    "\n",
    "The sales_df dataset has been split into y for the target variable, and X for the features, and preloaded for you. LinearRegression has been imported from sklearn.linear_model.\n",
    "\n",
    "- Import KFold and cross_val_score.\n",
    "- Create kf by calling KFold(), setting the number of splits to six, shuffle to True, and setting a seed of 5.\n",
    "- Perform cross-validation using reg on X and y, passing kf to cv.\n",
    "- Print the cv_scores."
   ]
  },
  {
   "cell_type": "code",
   "execution_count": 33,
   "id": "14a982d7",
   "metadata": {},
   "outputs": [
    {
     "name": "stdout",
     "output_type": "stream",
     "text": [
      "[0.99894062 0.99909245 0.9990103  0.99896344 0.99889153 0.99903953]\n"
     ]
    }
   ],
   "source": [
    "from sklearn.model_selection import cross_val_score, KFold\n",
    "kf = KFold(n_splits = 6, shuffle = True, random_state = 5)\n",
    "reg = LinearRegression()\n",
    "\n",
    "cv_scores = cross_val_score(reg, X, y, cv=kf)\n",
    "\n",
    "print(cv_scores)"
   ]
  },
  {
   "cell_type": "code",
   "execution_count": 34,
   "id": "8ebb3dbd",
   "metadata": {},
   "outputs": [
    {
     "data": {
      "text/plain": [
       "array([[16000.  ,  6566.23,  2907.98],\n",
       "       [13000.  ,  9237.76,  2409.57],\n",
       "       [41000.  , 15886.45,  2913.41],\n",
       "       ...,\n",
       "       [44000.  , 19800.07,  5096.19],\n",
       "       [71000.  , 17534.64,  1940.87],\n",
       "       [42000.  , 15966.69,  5046.55]])"
      ]
     },
     "execution_count": 34,
     "metadata": {},
     "output_type": "execute_result"
    }
   ],
   "source": [
    "X"
   ]
  },
  {
   "cell_type": "code",
   "execution_count": 35,
   "id": "24632d72",
   "metadata": {},
   "outputs": [
    {
     "data": {
      "text/plain": [
       "array([ 54732.76,  46677.9 , 150177.83, ..., 163631.46, 253610.41,\n",
       "       148202.41])"
      ]
     },
     "execution_count": 35,
     "metadata": {},
     "output_type": "execute_result"
    }
   ],
   "source": [
    "y"
   ]
  },
  {
   "cell_type": "markdown",
   "id": "5aff7f1b",
   "metadata": {},
   "source": [
    "### Analyzing cross-validation metrics\n",
    "Now you have performed cross-validation, it's time to analyze the results.\n",
    "\n",
    "You will display the mean, standard deviation, and 95% confidence interval for cv_results, which has been preloaded for you from the previous exercise\n",
    "\n",
    "- Calculate and print the mean of the results.\n",
    "- Calculate and print the standard deviation of cv_results.\n",
    "- Display the 95% confidence interval for your results using np.quantile()."
   ]
  },
  {
   "cell_type": "code",
   "execution_count": 41,
   "id": "6e4a31d5",
   "metadata": {},
   "outputs": [
    {
     "name": "stdout",
     "output_type": "stream",
     "text": [
      "0.9989896443678249\n",
      "6.608118371529651e-05\n",
      "[0.99892221 0.99908583]\n"
     ]
    }
   ],
   "source": [
    "print(np.mean(cv_scores))\n",
    "print(np.std(cv_scores))\n",
    "print(np.quantile(cv_scores, [0.125, 0.975]))"
   ]
  },
  {
   "cell_type": "markdown",
   "id": "bb41dc9d",
   "metadata": {},
   "source": [
    "### Regularized regression: Ridge\n",
    "Ridge regression performs regularization by computing the squared values of the model parameters multiplied by alpha and adding them to the loss function.\n",
    "\n",
    "In this exercise, you will fit ridge regression models over a range of different alpha values, and print their \n",
    "R\n",
    "2\n",
    " scores. You will use all of the features in the sales_df dataset to predict \"sales\". The data has been split into X_train, X_test, y_train, y_test for you.\n",
    "\n",
    "A variable called alphas has been provided as a list containing different alpha values, which you will loop through to generate scores.\n",
    "- Import Ridge.\n",
    "- Instantiate Ridge, setting alpha equal to alpha.\n",
    "- Fit the model to the training data.\n",
    "- Calculate the R2 score for each iteration of ridge."
   ]
  },
  {
   "cell_type": "code",
   "execution_count": 45,
   "id": "6af51332",
   "metadata": {},
   "outputs": [
    {
     "name": "stdout",
     "output_type": "stream",
     "text": [
      "[0.9990152104759369, 0.9990152104759373, 0.9990152104759419, 0.999015210475987, 0.9990152104764387, 0.9990152104809561]\n"
     ]
    }
   ],
   "source": [
    "from sklearn.linear_model import Ridge\n",
    "alpha = [0.1, 1.0, 10.0, 100.0, 1000.0, 10000.0]\n",
    "\n",
    "ridge_scores = []\n",
    "for alpha in alpha:\n",
    "    ridge = Ridge(alpha = alpha)\n",
    "    ridge.fit(X_train, y_train)\n",
    "    score = ridge.score(X_test, y_test)\n",
    "    ridge_scores.append(score)\n",
    "\n",
    "print(ridge_scores)"
   ]
  },
  {
   "cell_type": "markdown",
   "id": "8fcfa550",
   "metadata": {},
   "source": [
    "### Lasso regression for feature importance\n",
    "In the video, you saw how lasso regression can be used to identify important features in a dataset.\n",
    "\n",
    "In this exercise, you will fit a lasso regression model to the sales_df data and plot the model's coefficients.\n",
    "\n",
    "The feature and target variable arrays have been pre-loaded as X and y, along with sales_columns, which contains the dataset's feature names.\n",
    "- Import Lasso from sklearn.linear_model.\n",
    "- Instantiate a Lasso regressor with an alpha of 0.3.\n",
    "- Fit the model to the data.\n",
    "- Compute the model's coefficients, storing as lasso_coef."
   ]
  },
  {
   "cell_type": "code",
   "execution_count": 53,
   "id": "728d976c",
   "metadata": {},
   "outputs": [],
   "source": [
    "sales_columns = ['tv', 'radio', 'social_media']"
   ]
  },
  {
   "cell_type": "code",
   "execution_count": 50,
   "id": "628eef2d",
   "metadata": {},
   "outputs": [
    {
     "name": "stdout",
     "output_type": "stream",
     "text": [
      "[ 3.56256962 -0.00397035  0.00496385]\n"
     ]
    }
   ],
   "source": [
    "from sklearn.linear_model import Lasso\n",
    "lasso = Lasso(alpha = 0.3)\n",
    "lasso.fit(X, y)\n",
    "\n",
    "lasso_coef = lasso.fit(X, y).coef_\n",
    "print(lasso_coef)"
   ]
  },
  {
   "cell_type": "code",
   "execution_count": 54,
   "id": "c8f57416",
   "metadata": {},
   "outputs": [
    {
     "data": {
      "image/png": "[encoded data removed]",
      "text/plain": [
       "<Figure size 432x288 with 1 Axes>"
      ]
     },
     "metadata": {
      "needs_background": "light"
     },
     "output_type": "display_data"
    }
   ],
   "source": [
    "plt.bar(sales_columns, lasso_coef)\n",
    "plt.show()"
   ]
  },
  {
   "cell_type": "code",
   "execution_count": null,
   "id": "32edf7eb",
   "metadata": {},
   "outputs": [],
   "source": []
  }
 ],
 "metadata": {
  "kernelspec": {
   "display_name": "Python 3",
   "language": "python",
   "name": "python3"
  },
  "language_info": {
   "codemirror_mode": {
    "name": "ipython",
    "version": 3
   },
   "file_extension": ".py",
   "mimetype": "text/x-python",
   "name": "python",
   "nbconvert_exporter": "python",
   "pygments_lexer": "ipython3",
   "version": "3.8.8"
  }
 },
 "nbformat": 4,
 "nbformat_minor": 5
}
